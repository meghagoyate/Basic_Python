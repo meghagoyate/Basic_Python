{
 "cells": [
  {
   "cell_type": "code",
   "execution_count": 1,
   "id": "5b205d59",
   "metadata": {},
   "outputs": [
    {
     "name": "stdout",
     "output_type": "stream",
     "text": [
      "Before: None\n",
      "Loop: 3 3\n",
      "Loop: 41 41\n",
      "Loop: 12 41\n",
      "Loop: 9 41\n",
      "Loop: 74 74\n",
      "Loop: 15 74\n",
      "Largest: 74\n"
     ]
    }
   ],
   "source": [
    "largest = None\n",
    "print('Before:', largest)\n",
    "for iterval in [3, 41, 12, 9, 74, 15]:\n",
    "    if largest is None or largest < iterval:\n",
    "        largest = iterval\n",
    "    print('Loop:', iterval, largest)\n",
    "print('Largest:', largest)\n"
   ]
  },
  {
   "cell_type": "code",
   "execution_count": null,
   "id": "e096da1a",
   "metadata": {},
   "outputs": [],
   "source": []
  }
 ],
 "metadata": {
  "kernelspec": {
   "display_name": "Python 3",
   "language": "python",
   "name": "python3"
  },
  "language_info": {
   "codemirror_mode": {
    "name": "ipython",
    "version": 3
   },
   "file_extension": ".py",
   "mimetype": "text/x-python",
   "name": "python",
   "nbconvert_exporter": "python",
   "pygments_lexer": "ipython3",
   "version": "3.8.8"
  }
 },
 "nbformat": 4,
 "nbformat_minor": 5
}
