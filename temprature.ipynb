{
 "cells": [
  {
   "cell_type": "code",
   "execution_count": 1,
   "id": "a9c905f0",
   "metadata": {},
   "outputs": [
    {
     "name": "stdout",
     "output_type": "stream",
     "text": [
      "Enter Celsius Temperature:40\n",
      "104.0\n"
     ]
    }
   ],
   "source": [
    "inp = input('Enter Celsius Temperature:')\n",
    "cel = float(inp)\n",
    "fahr = (cel * 9.0) / 5.0 + 32.0\n",
    "print(fahr)"
   ]
  },
  {
   "cell_type": "code",
   "execution_count": null,
   "id": "2442763c",
   "metadata": {},
   "outputs": [],
   "source": []
  }
 ],
 "metadata": {
  "kernelspec": {
   "display_name": "Python 3",
   "language": "python",
   "name": "python3"
  },
  "language_info": {
   "codemirror_mode": {
    "name": "ipython",
    "version": 3
   },
   "file_extension": ".py",
   "mimetype": "text/x-python",
   "name": "python",
   "nbconvert_exporter": "python",
   "pygments_lexer": "ipython3",
   "version": "3.8.8"
  }
 },
 "nbformat": 4,
 "nbformat_minor": 5
}
