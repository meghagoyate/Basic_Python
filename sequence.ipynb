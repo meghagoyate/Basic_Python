{
 "cells": [
  {
   "cell_type": "code",
   "execution_count": 2,
   "id": "fa831079",
   "metadata": {},
   "outputs": [
    {
     "name": "stdout",
     "output_type": "stream",
     "text": [
      "Enter a Number:45\n",
      "45 136 68.0 34.0 17.0 52.0 26.0 13.0 40.0 20.0 10.0 5.0 16.0 8.0 4.0 2.0 "
     ]
    }
   ],
   "source": [
    "inp = input('Enter a Number:')\n",
    "n = int(inp)\n",
    "while n != 1:\n",
    "    print(n, end=' ')     # Use comma to suppress newline\n",
    "    if n % 2 == 0:        # n is even\n",
    "        n = n / 2\n",
    "    else:                 # n is odd\n",
    "        n = n * 3 + 1\n",
    "\n"
   ]
  },
  {
   "cell_type": "code",
   "execution_count": null,
   "id": "5231c950",
   "metadata": {},
   "outputs": [],
   "source": []
  }
 ],
 "metadata": {
  "kernelspec": {
   "display_name": "Python 3",
   "language": "python",
   "name": "python3"
  },
  "language_info": {
   "codemirror_mode": {
    "name": "ipython",
    "version": 3
   },
   "file_extension": ".py",
   "mimetype": "text/x-python",
   "name": "python",
   "nbconvert_exporter": "python",
   "pygments_lexer": "ipython3",
   "version": "3.8.8"
  }
 },
 "nbformat": 4,
 "nbformat_minor": 5
}
