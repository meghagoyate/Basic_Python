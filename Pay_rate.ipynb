{
 "cells": [
  {
   "cell_type": "code",
   "execution_count": 1,
   "id": "f185506d",
   "metadata": {},
   "outputs": [
    {
     "name": "stdout",
     "output_type": "stream",
     "text": [
      "Enter Hours: 8\n",
      "Enter Rate: 1050\n",
      "Pay: 8400.0\n"
     ]
    }
   ],
   "source": [
    "inp = input('Enter Hours: ')\n",
    "hours = float(inp)\n",
    "inp = input('Enter Rate: ')\n",
    "rate = float(inp)\n",
    "pay = hours * rate\n",
    "print('Pay:', pay)\n"
   ]
  },
  {
   "cell_type": "code",
   "execution_count": null,
   "id": "7e46a8d4",
   "metadata": {},
   "outputs": [],
   "source": []
  }
 ],
 "metadata": {
  "kernelspec": {
   "display_name": "Python 3",
   "language": "python",
   "name": "python3"
  },
  "language_info": {
   "codemirror_mode": {
    "name": "ipython",
    "version": 3
   },
   "file_extension": ".py",
   "mimetype": "text/x-python",
   "name": "python",
   "nbconvert_exporter": "python",
   "pygments_lexer": "ipython3",
   "version": "3.8.8"
  }
 },
 "nbformat": 4,
 "nbformat_minor": 5
}
